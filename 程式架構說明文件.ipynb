{
 "cells": [
  {
   "cell_type": "code",
   "execution_count": 5,
   "metadata": {},
   "outputs": [
    {
     "name": "stdout",
     "output_type": "stream",
     "text": [
      "Requirement already satisfied: flask in /srv/conda/lib/python3.6/site-packages (1.1.1)\n",
      "Requirement already satisfied: Jinja2>=2.10.1 in /srv/conda/lib/python3.6/site-packages (from flask) (2.10.1)\n",
      "Requirement already satisfied: click>=5.1 in /srv/conda/lib/python3.6/site-packages (from flask) (7.0)\n",
      "Requirement already satisfied: Werkzeug>=0.15 in /srv/conda/lib/python3.6/site-packages (from flask) (0.15.5)\n",
      "Requirement already satisfied: itsdangerous>=0.24 in /srv/conda/lib/python3.6/site-packages (from flask) (1.1.0)\n",
      "Requirement already satisfied: MarkupSafe>=0.23 in /srv/conda/lib/python3.6/site-packages (from Jinja2>=2.10.1->flask) (1.1.1)\n",
      "Note: you may need to restart the kernel to use updated packages.\n"
     ]
    }
   ],
   "source": [
    "pip install flask;"
   ]
  },
  {
   "cell_type": "code",
   "execution_count": 6,
   "metadata": {},
   "outputs": [
    {
     "name": "stdout",
     "output_type": "stream",
     "text": [
      "Requirement already up-to-date: flask in /srv/conda/lib/python3.6/site-packages (1.1.1)\n",
      "Requirement already satisfied, skipping upgrade: itsdangerous>=0.24 in /srv/conda/lib/python3.6/site-packages (from flask) (1.1.0)\n",
      "Requirement already satisfied, skipping upgrade: Werkzeug>=0.15 in /srv/conda/lib/python3.6/site-packages (from flask) (0.15.5)\n",
      "Requirement already satisfied, skipping upgrade: Jinja2>=2.10.1 in /srv/conda/lib/python3.6/site-packages (from flask) (2.10.1)\n",
      "Requirement already satisfied, skipping upgrade: click>=5.1 in /srv/conda/lib/python3.6/site-packages (from flask) (7.0)\n",
      "Requirement already satisfied, skipping upgrade: MarkupSafe>=0.23 in /srv/conda/lib/python3.6/site-packages (from Jinja2>=2.10.1->flask) (1.1.1)\n",
      "Note: you may need to restart the kernel to use updated packages.\n"
     ]
    }
   ],
   "source": [
    "pip install -U flask;"
   ]
  },
  {
   "cell_type": "markdown",
   "metadata": {},
   "source": [
    "<a name=\"top\"></a>"
   ]
  },
  {
   "cell_type": "code",
   "execution_count": 7,
   "metadata": {},
   "outputs": [
    {
     "name": "stdout",
     "output_type": "stream",
     "text": [
      "Requirement already satisfied: werkzeug in /srv/conda/lib/python3.6/site-packages (0.15.5)\n",
      "Note: you may need to restart the kernel to use updated packages.\n"
     ]
    }
   ],
   "source": [
    "pip install werkzeug;"
   ]
  },
  {
   "cell_type": "code",
   "execution_count": 8,
   "metadata": {},
   "outputs": [
    {
     "name": "stdout",
     "output_type": "stream",
     "text": [
      "Requirement already up-to-date: werkzeug in /srv/conda/lib/python3.6/site-packages (0.15.5)\n",
      "Note: you may need to restart the kernel to use updated packages.\n"
     ]
    }
   ],
   "source": [
    "pip install -U werkzeug;"
   ]
  },
  {
   "cell_type": "code",
   "execution_count": null,
   "metadata": {},
   "outputs": [],
   "source": []
  },
  {
   "cell_type": "markdown",
   "metadata": {},
   "source": [
    "# 前言  :  什麼是 Line Bot app?  在這裡我學到了什麼?  \n",
    "### <a href=\"https://medium.com/@Wildtyto/line-bot-%E8%81%8A%E5%A4%A9%E6%A9%9F%E5%99%A8%E4%BA%BA-1-%E5%BE%9E%E8%AA%8D%E8%AD%98%E9%96%8B%E5%A7%8B-2a65799fd2ac\">參考網站</a>\n",
    "### Line Bot 的即時的應對是最大的優點\n",
    "### Line Bot 對話方式通常與你的 Line 朋友對話模式無異\n",
    "### Line Bot 除了幾項特別的訊息格式外，幾乎都是利用對話泡泡的對答模式.  簡單來說能讓你幾乎無法發覺是和 Bot 對話是 Line Bot 開發商最終目標之一\n",
    "### Line Bot 能夠間接透過數據分析來達成近乎瞬間的結果展示，同時也能利用串接外部的服務來滿足用戶的功能需求。"
   ]
  },
  {
   "cell_type": "markdown",
   "metadata": {},
   "source": [
    "# 1  :  Line Bot 的運作流程\n",
    "### 看圖說故事 : 直接看圖吧"
   ]
  },
  {
   "cell_type": "markdown",
   "metadata": {},
   "source": [
    "<img src=\"Line-Bot-Blueprint.jpg\" align=\"left\"></img>"
   ]
  },
  {
   "cell_type": "code",
   "execution_count": null,
   "metadata": {},
   "outputs": [],
   "source": []
  },
  {
   "cell_type": "markdown",
   "metadata": {},
   "source": [
    "# 2.1  :  [ 網頁應用程式 , Android 應用程式 , Line Bot ] 通訊原理都是一樣的.\n",
    "# 先說 [ 網頁應用程式 ] : "
   ]
  },
  {
   "cell_type": "markdown",
   "metadata": {},
   "source": [
    "<img src=\"p1.jpg\" align=\"left\"></img>"
   ]
  },
  {
   "cell_type": "markdown",
   "metadata": {},
   "source": [
    "# 2.2  :  訂單雖以 [ 文字檔格式 ] 送交 yahoo server. 但使用者下單過程如下\n",
    "### 全過程中,  使用者看到的都是 [ 圖文並茂 ] 的環境.  仔細看數量欄,  他是以兩個 button 元件控制數量.  當然裡也可以直接更改 text 原件上的數值.  \n",
    "### 在完成所有流程後,  yahoo server 最終才會以接近存文字的格式接收到此訂單"
   ]
  },
  {
   "cell_type": "markdown",
   "metadata": {},
   "source": [
    "<img src=\"p2.jpg\" align=\"left\"></img><br/>\n",
    "<img src=\"p3.jpg\" align=\"left\"></img>"
   ]
  },
  {
   "cell_type": "markdown",
   "metadata": {},
   "source": [
    "# 2.2  :  再來是 [ Android 應用程式 ] : \n",
    "### 和網頁版本的差別在哪?  顯示介面改以 yahoo shopping android app 呈現;  還有勾選的元件不是 heml 元件,  而是改以 android 的元件.  \n",
    "### 基本購物流程還是一樣,  yahoo 仍然需要將所有購物資訊收集齊全.  "
   ]
  },
  {
   "cell_type": "markdown",
   "metadata": {},
   "source": [
    "<img src=\"p4.jpg\" align=\"left\"></img>"
   ]
  },
  {
   "cell_type": "markdown",
   "metadata": {},
   "source": [
    "# 2.3  :  那 [ Line Bot 應用程式 ] : 做得更好嗎?\n",
    "### 第一 : Line 雖然也可以傳送 [ 文字 ] 給 Bot Server,  但是溝通介面侷限太大,  而且基本上 Bot Server 是以 [ 一問一答 ] 的模式在運作.  接受此模式的人肯定不多.  簡言之,  用  Bot app 實作購物商城...  有待商榷.\n",
    "### 第二 : Line Bot app 的缺點 ! [ 1. 資訊容易過期 ] , [ 2. 溝通元件也很容易過期 ] , [ 3. 過於複雜的程序很容易錯亂 ]\n",
    "### [ 1. 資訊容易過期 ] : 想像一下,  消費者拿舊的 DM 跟你要則扣.  至少還有依據和消費者說 [ DM 過期 ]. 如果 Line 使用者沒有清掉舊的訊息,  很容易誤解.  \n",
    "### [ 2. 溝通元件也很容易過期 ] : 網頁商城隨時都在和 server 要求最新的訊息.  而 Line 使用者則不一定.  如果你改版了,  而 Line 使用者沒刷新資訊.  可想而知後果很難解決.  \n",
    "### [ 3. 過於複雜的程序很容易錯亂 ] : 基本上 Line Bot 最多的應用面仍然局限於 [ 一來一往 ] 的交談式服務上.  想像一下,  你要使用者點選 play 再點選 password.  如此 Bot Server 能理解接下來送過來的訊息是 [ 終極密碼的猜題過程 ].  那如果你不只提供一種遊戲呢?"
   ]
  },
  {
   "cell_type": "markdown",
   "metadata": {},
   "source": [
    "### <a href=\"https://www.shopify.com/messenger\">bot shop example : </a>"
   ]
  },
  {
   "cell_type": "code",
   "execution_count": null,
   "metadata": {},
   "outputs": [],
   "source": []
  },
  {
   "cell_type": "markdown",
   "metadata": {},
   "source": [
    "# 3.1 !!  Line Bot 和 Line user 溝通橋梁基本上是 \"文字\" .  而我的初版架構圖 :   "
   ]
  },
  {
   "cell_type": "markdown",
   "metadata": {},
   "source": [
    "<img src=\"first map.jpg\" align=\"left\"></img>"
   ]
  },
  {
   "cell_type": "markdown",
   "metadata": {},
   "source": [
    "# 3.2 直接寫成 SERVER 版的 SERVICE 太難了,  於是乎用 CLINET 先模擬了一次 : "
   ]
  },
  {
   "cell_type": "markdown",
   "metadata": {},
   "source": [
    "### <a href=\"./server.ipynb\">local Server code link !</a><br/>"
   ]
  },
  {
   "cell_type": "code",
   "execution_count": null,
   "metadata": {},
   "outputs": [],
   "source": []
  },
  {
   "cell_type": "markdown",
   "metadata": {},
   "source": [
    "# 4.1 識別是不是來自於同一個 line 客戶端的請求 ! 只能用 event.source.userId"
   ]
  },
  {
   "cell_type": "markdown",
   "metadata": {},
   "source": [
    "# 4.2 line 客戶端的請求都要解析, 再把客戶端的資訊紀錄在 static_store 內"
   ]
  },
  {
   "cell_type": "code",
   "execution_count": null,
   "metadata": {},
   "outputs": [],
   "source": []
  },
  {
   "cell_type": "markdown",
   "metadata": {},
   "source": [
    "# 5.1 WSGI ( PEP 3333 specification ) <== 網頁服務的標準"
   ]
  },
  {
   "cell_type": "markdown",
   "metadata": {},
   "source": [
    "<img src=\"glnJA.jpg\" align=\"left\"></img>"
   ]
  },
  {
   "cell_type": "markdown",
   "metadata": {},
   "source": [
    "# 5.2 這張圖 [ 我看得懂的 ] 只有兩個重點 \n",
    "### 1. iterable Application [ create server 階段工程 - app.run() ]    \n",
    "### 2. environ ( MiddlewareN ) ==> environ ( Application ) \n",
    "### 2.1 environ ( MiddlewareN ) :: 這個階段可以實作 [ 國際化 ]\n",
    "### <a href=\"http://blog.ez2learn.com/2010/01/27/introduction-to-wsgi/\">參考網址</a>\n",
    "### 2.2 environ ( Application )  :: [ callback 正式被呼叫的階段 - 內部呼叫 ( self call handle_message ) 階段 ]"
   ]
  },
  {
   "cell_type": "markdown",
   "metadata": {},
   "source": [
    "# 5.3 關於 app [ 支援多國語言 ] 的構思"
   ]
  },
  {
   "cell_type": "code",
   "execution_count": null,
   "metadata": {},
   "outputs": [],
   "source": [
    "# 利用 WSGI 寫一個 Middleware 而不需改寫  app.py 的任何一個部份 ， 就能讓你的 APP 支援多國語言\n",
    "\n",
    "class MarsLanguage(object):\n",
    "\n",
    "-------------------------------------------------------------------------------\n",
    "\n",
    "    def __init__(self, app, encoding='utf8'):\n",
    "        self.app = app\n",
    "        self.encoding = encoding\n",
    "        self.dictionary = {\n",
    "            u'使用者名稱': u'username',\n",
    "            u'帳號': u'account',\n",
    "            u'密碼': u'password',\n",
    "            u'地址': u'address'\n",
    "        }\n",
    "        \n",
    "-------------------------------------------------------------------------------\n",
    "        \n",
    "        self.dictionary = {\n",
    "            u'使用者名稱': u'ユーザー名',\n",
    "            u'帳號': u'口座番号',\n",
    "            u'密碼': u'パスワード',\n",
    "            u'地址': u'住所'\n",
    "        }\n",
    "\n",
    "-------------------------------------------------------------------------------"
   ]
  },
  {
   "cell_type": "code",
   "execution_count": null,
   "metadata": {},
   "outputs": [],
   "source": []
  },
  {
   "cell_type": "markdown",
   "metadata": {},
   "source": [
    "# 6. 在這裡我整理一下我曾經爬過的程式碼 "
   ]
  },
  {
   "cell_type": "markdown",
   "metadata": {},
   "source": [
    "### 6.1 關於 SERVER 啟動的部分"
   ]
  },
  {
   "cell_type": "markdown",
   "metadata": {},
   "source": [
    "<hr>"
   ]
  },
  {
   "cell_type": "markdown",
   "metadata": {},
   "source": [
    "### app = Flask(); \n",
    "### app.run()\n",
    "### app.run() 會執行 werkzeug.serving.run_simple( host , port , self )\n",
    "### werkzeug.serving.run_simple() 會 create server"
   ]
  },
  {
   "cell_type": "markdown",
   "metadata": {},
   "source": [
    "<hr>"
   ]
  },
  {
   "cell_type": "markdown",
   "metadata": {},
   "source": [
    "### 重點 1. werkzeug.serving 實做了 python 的 WSGI ( web server getway interface ) ， 而我們利用了<br> 　　　WSGI 架構的 [ 裝飾 ] 用法 @app.route(\"/callback\", methods=['POST']) 讓 line user 找得到入口\n",
    "### 重點 2. run_simple( processes=1 ) :: Start a WSGI application. Optional features include a reloader , <br>　　　<B><U> multithreading </U></B> and fork support. { 簡單來說 ... server 的 multithread 機制不用我去操心 } <br>　　　<B><U> 想像一下 : 你去 7-11 結帳時 ， 已經有 10 個人等候 ， 而結帳店員只有 1 個 !!! 會有多 [冏] !!! </U></B> "
   ]
  },
  {
   "cell_type": "markdown",
   "metadata": {},
   "source": [
    "### <a href=\"https://www.letiantian.me/2015-09-10-understand-python-wsgi/\">理解 Python WSGI [ 這篇用 WSGI 架了一個極簡風格的 web server ]</a>\n",
    "### <a href=\"https://codertw.com/%E7%A8%8B%E5%BC%8F%E8%AA%9E%E8%A8%80/120739/\">WSGI簡介</a>"
   ]
  },
  {
   "cell_type": "markdown",
   "metadata": {},
   "source": [
    "### 6.2 關於 ( 如何驗證 line user 來源 ) 的部分"
   ]
  },
  {
   "cell_type": "markdown",
   "metadata": {},
   "source": [
    "<hr>"
   ]
  },
  {
   "cell_type": "markdown",
   "metadata": {},
   "source": [
    "### 1. 驗證過程需要的三個資訊 "
   ]
  },
  {
   "cell_type": "markdown",
   "metadata": {},
   "source": [
    "### 1.1 [ signature ] : get from request.headers[ 'X-Line-Singature' ]\n",
    "### 1.2 [ channel_secret ] : 這是你 Line Developer 帳號的 [ 頻道 ] 專屬私有秘鑰\n",
    "### 1.3 [ request body ] : get from request.get_data( as_text=True )"
   ]
  },
  {
   "cell_type": "markdown",
   "metadata": {},
   "source": [
    "<hr>"
   ]
  },
  {
   "cell_type": "markdown",
   "metadata": {},
   "source": [
    "### 2. 加密\n",
    "### ... ... 用的是 \"hamac( hashlib.sha256 )\" 哈希加密演算法\n",
    "### ... ... 加密過程 key 用到的是 [ channel_secret ]\n",
    "### ... ... 加密過程的素材是 [ request body ( 必須是 utf-8 的編碼歐 ) ]"
   ]
  },
  {
   "cell_type": "markdown",
   "metadata": {},
   "source": [
    "### gen = hmac.new( channel_secret , body.encode( 'utf-8' ) , hashlib.sha256 ).digest()"
   ]
  },
  {
   "cell_type": "markdown",
   "metadata": {},
   "source": [
    "<hr>"
   ]
  },
  {
   "cell_type": "markdown",
   "metadata": {},
   "source": [
    "### 3. 開始驗證\n",
    "### 驗證的原理是 [ 逐一比對 A 與 B 的每個字元是否相同 ] , 如果是 [ 驗證通過 ] . 反之 [ 驗證失敗 ]\n",
    "### return compare_digest(　signature.encode( 'utf-8' ) , base64.b64encode( gen )  )"
   ]
  },
  {
   "cell_type": "markdown",
   "metadata": {},
   "source": [
    "<hr>"
   ]
  },
  {
   "cell_type": "code",
   "execution_count": 6,
   "metadata": {},
   "outputs": [
    {
     "name": "stdout",
     "output_type": "stream",
     "text": [
      ">>>  True\n"
     ]
    }
   ],
   "source": [
    "# compare_digest 工作原理\n",
    "\n",
    "signature = '111';\n",
    "gen = '111aa'\n",
    "print( '>>> ' , sum( [ ( 0 | ( ord(i) ^ ord(j) ) )  for i , j in zip( signature , gen ) ] ) == 0 ) "
   ]
  },
  {
   "cell_type": "code",
   "execution_count": null,
   "metadata": {},
   "outputs": [],
   "source": []
  },
  {
   "cell_type": "code",
   "execution_count": null,
   "metadata": {
    "scrolled": true
   },
   "outputs": [],
   "source": [
    "from flask import Flask;\n",
    "# help( Flask.wsgi_app )"
   ]
  },
  {
   "cell_type": "code",
   "execution_count": null,
   "metadata": {},
   "outputs": [],
   "source": [
    "from flask import Flask;\n",
    "# help( Flask )\n",
    "                                                                                                                                                ===========================\n",
    "Flask.__init__( self , import_name , static_url_path=None , static_folder='static' , static_host=None , host_matching=False , subdomain_matching=False , template_folder='templates' , instance_path=None, instance_relative_config=False, root_path=None)\n",
    "# Initialize self.  See help(type(self)) for accurate signature."
   ]
  },
  {
   "cell_type": "code",
   "execution_count": null,
   "metadata": {},
   "outputs": [],
   "source": [
    "import werkzeug.serving;\n",
    "# help( werkzeug );"
   ]
  },
  {
   "cell_type": "code",
   "execution_count": null,
   "metadata": {
    "scrolled": true
   },
   "outputs": [],
   "source": [
    "from werkzeug.serving import run_simple;\n",
    "# help( run_simple );"
   ]
  },
  {
   "cell_type": "code",
   "execution_count": null,
   "metadata": {},
   "outputs": [],
   "source": []
  },
  {
   "cell_type": "markdown",
   "metadata": {},
   "source": [
    "# 7. my handle_message() :: logical"
   ]
  },
  {
   "cell_type": "markdown",
   "metadata": {},
   "source": [
    "### <a href=\"./app.py\">app.py link !</a><br/>"
   ]
  },
  {
   "cell_type": "code",
   "execution_count": null,
   "metadata": {},
   "outputs": [],
   "source": [
    "# get msg form line cline user input < msg is never None or empty >\n",
    "msg = event.message.text;\n",
    "msg = msg.strip();\n",
    "\n",
    "# get user_ID from < user_ID is unique id from every line client user >\n",
    "event_str_obj =  str( event )\n",
    "s = event_str_obj.index( '\"userId\": \"' ) + 11;\n",
    "e = event_str_obj.index( '\"' , s );\n",
    "user_ID = event_str_obj[ s : e ];\n"
   ]
  },
  {
   "cell_type": "code",
   "execution_count": null,
   "metadata": {},
   "outputs": [],
   "source": [
    "# ---------------------------------------------------------------------------------------------------------------------------------\n",
    "# step ( 1 ) use \"user_ID\" var login \n",
    "# cmd[0] = [login]\n",
    "# ---------------------------------------------------------------------------------------------------------------------------------\n",
    "\n",
    "ck_1 = re.match( 'login' , msg );\n",
    "\n",
    "if( ck_1 and ( ck_1.span()[ 1 ] == len( msg ) ) ) : \n",
    "\n",
    "    print( '*** ---- server step 1 ================================== ' );\n",
    "    print( '*** ---- server get msg           : [{}]'.format( msg     ) );\n",
    "    print( '*** ---- server get userid        : [{}]'.format( user_ID ) );\n",
    "\n",
    "    print( '*** ---- server get login process from user : [{}]'.format( user_ID ) );\n",
    "    ck_2 = sign_in( user_ID );\n",
    "\n",
    "    if( not ck_2 ) : \n",
    "\n",
    "        # none this user -----------------------------------------------------------------------------\n",
    "        sign_up( user_ID , SourceUser );\n",
    "        add_cmd( user_ID , 'login' );\n",
    "        help = '\\n\\nPlease type [ help ] to pup user menu !'\n",
    "        message = TextSendMessage( text=( 'login successful ! Hi , dear user ! Wellcom to my service !' + help ) );\n",
    "        del help;\n",
    "        line_bot_api.reply_message( event.reply_token , message );\n",
    "        return;\n",
    "\n",
    "    # prepare this user succressful ------------------------------------------------------------------\n",
    "    add_cmd( user_ID , 'login' );\n",
    "    create_ans( user_ID );\n",
    "    help = '\\n\\nPlease type [ help ] to pup user menu !'\n",
    "    message = TextSendMessage( text=( 'login successful ! Hi , dear user ! Long time no see !' + help ) );\n",
    "    del help;\n",
    "    line_bot_api.reply_message( event.reply_token , message );\n",
    "    return;\n"
   ]
  },
  {
   "cell_type": "code",
   "execution_count": null,
   "metadata": {},
   "outputs": [],
   "source": [
    "# ---------------------------------------------------------------------------------------------------------------------------------\n",
    "# step ( 2 ) use \"user_ID\" var logout\n",
    "# ---------------------------------------------------------------------------------------------------------------------------------\n",
    "\n",
    "ck_1 = re.match( 'logout' , msg );\n",
    "\n",
    "if( ck_1 and ( ck_1.span()[ 1 ] == len( msg ) ) ) : \n",
    "\n",
    "    print( '*** ---- server step 2 ================================== ' );\n",
    "    print( '*** ---- server get msg           : [{}]'.format( msg     ) );\n",
    "    print( '*** ---- server get userid        : [{}]'.format( user_ID ) );\n",
    "\n",
    "    print( '*** ---- server get logout process from user : [{}]'.format( user_ID ) );\n",
    "    txt = sign_out( user_ID );\n",
    "    message = TextSendMessage( text=( txt ) );\n",
    "    del txt;\n",
    "    line_bot_api.reply_message( event.reply_token , message );\n",
    "\n",
    "    return;\n"
   ]
  },
  {
   "cell_type": "code",
   "execution_count": null,
   "metadata": {},
   "outputs": [],
   "source": [
    "# ---------------------------------------------------------------------------------------------------------------------------------\n",
    "# step ( 3 ) useing service\n",
    "# ---------------------------------------------------------------------------------------------------------------------------------\n",
    "\n",
    "try : \n"
   ]
  },
  {
   "cell_type": "code",
   "execution_count": null,
   "metadata": {},
   "outputs": [],
   "source": [
    "    level = { 'play':1 , 'search':1 , 'help':1 , 'password':2 , 'game2':2 , 'game3':2 , 'google':3 , 'yahoo':3 , 'books':3 , };\n",
    "    # books  = 'https://search.books.com.tw/search/query/key/' + key + '/cat/all';\n",
    "    # google = 'https://www.google.com/search?q=' + key + '&tbm=bks'\n",
    "    # yahoo  = 'https://tw.search.yahoo.com/search?p=' + key '&fr2=sb-top-tw.shopping.search'\n",
    "\n",
    "    print( '*** ---- server step 3 ================================== ' );\n",
    "    print( '*** ---- server get msg           : [{}]'.format( msg     ) );\n",
    "    print( '*** ---- server get userid        : [{}]'.format( user_ID ) );\n",
    "    "
   ]
  },
  {
   "cell_type": "code",
   "execution_count": null,
   "metadata": {},
   "outputs": [],
   "source": [
    "    # has this user  -----------------------------------------------------------------------------\n",
    "    current_user = get_user( user_ID );\n",
    "    if( current_user == None ) : \n",
    "        raise None_This_User_Exception('');\n",
    "        pass;\n",
    "    "
   ]
  },
  {
   "cell_type": "code",
   "execution_count": null,
   "metadata": {},
   "outputs": [],
   "source": [
    "    # write cmd[1]\n",
    "\n",
    "    if( msg in level ) : \n",
    "\n",
    "        l = level.get( msg );\n",
    "        if( len( current_user.cmd ) == l ) : \n",
    "            current_user.cmd.append( '' );\n",
    "        pass;\n",
    "        current_user.cmd[ l ] = msg;\n",
    "        current_user.cmd = current_user.cmd[ 0 : ( level.get( msg ) + 1 ) : 1 ]\n",
    "        print( '*** ---- server step 3.1 ================================== ' );\n",
    "        print( '*** ---- list server cmd : [{}] , from this user : [{}]'.format( get_user( user_ID ).cmd , user_ID ) );\n",
    "\n",
    "    else : \n",
    "\n",
    "        obj = re.match( '[\\d]{1,}' , msg );\n",
    "\n",
    "        if( obj == None ) : \n",
    "\n",
    "            # error cmd append error -----------------------------------------------------------------------------\n",
    "            print( 'server - - can not append this cmd Exception $$$ ' + msg )\n",
    "            message = TextSendMessage( text=( 'input cmd {} error , please re check !'.format( msg ) ) );\n",
    "            del obj;\n",
    "            line_bot_api.reply_message( event.reply_token , message );\n",
    "            return;\n",
    "\n",
    "        elif( obj != None and ( obj.span()[ 1 ] == len( msg ) ) ) : \n",
    "\n",
    "            if( int( msg ) > 99 or int( msg ) < 1 ) : \n",
    "                # cmd range error -----------------------------------------------------------------------------\n",
    "                print( 'server - - can not append this cmd Exception $$$ range error $$$' + str( msg ) )\n",
    "                message = TextSendMessage( text=( 'input range {} error , please re check !'.format( msg ) ) );\n",
    "                del obj;\n",
    "                line_bot_api.reply_message( event.reply_token , message );\n",
    "                return;\n",
    "\n",
    "            current_user.cmd.append( str( msg ) );\n",
    "            del obj;\n",
    "            print( '*** ---- server step 3.1 ================================== ' );\n",
    "            print( '*** ---- list server cmd : [{}] , from this user : [{}]'.format( get_user( user_ID ).cmd , user_ID ) );\n",
    "            pass;\n",
    "\n",
    "        pass;\n",
    "    "
   ]
  },
  {
   "cell_type": "code",
   "execution_count": null,
   "metadata": {},
   "outputs": [],
   "source": [
    "    # last_cmd  -----------------------------------------------------------------------------\n",
    "    last_cmd = get_last_cmd( user_ID );\n",
    "\n",
    "    # cmd list -----------------------------------------------------------------------------\n",
    "    cmd_list = get_cmd_from_this( user_ID , 1 );\n",
    "    "
   ]
  },
  {
   "cell_type": "code",
   "execution_count": null,
   "metadata": {},
   "outputs": [],
   "source": [
    "    # service here\n",
    "\n",
    "    if( last_cmd == 'help' ) : \n",
    "        raise None_This_Cmd_Exception('');\n",
    "        return;\n",
    "\n",
    "    if( last_cmd == 'play' ) : \n",
    "        print( '*** ---- server step 3.4 ================================== ' );\n",
    "        print( '*** ---- server get play process from user : [{}]'.format( user_ID ) );\n",
    "        txt  =   'please select a game [ password ] | [ game2 ] | [ game3 ] to play !'\n",
    "        txt += '\\nenjoy your game THX !'\n",
    "        message = TextSendMessage( text=( txt ) );\n",
    "        del txt;\n",
    "        line_bot_api.reply_message( event.reply_token , message );\n",
    "        return;\n",
    "\n",
    "    if( last_cmd == 'search' ) : \n",
    "        print( '*** ---- server step 3.5 ================================== ' );\n",
    "        print( '*** ---- server get search process from user : [{}]'.format( user_ID ) );\n",
    "        message = TextSendMessage( text=( 'you are searching !' ) );\n",
    "        line_bot_api.reply_message( event.reply_token , message );\n",
    "        return;\n",
    "        pass;\n",
    "\n",
    "    if( check_cmd( cmd_list , ( 'play,password,' + '(' + '[\\d]{1,}' + '([*]la){0,1}' + '([*]le){0,1}' + '[,]' ')*' + '(' + '[\\d]{1,}' + '([*]la){0,1}' + '([*]le){0,1}' + '){1}' ) ) ) : \n",
    "        print( '*** ---- server get [ playing password ] process from user : [{}]'.format( user_ID ) );\n",
    "\n",
    "        # play,password,50 process \n",
    "\n",
    "        try : \n",
    "            num = int( msg );\n",
    "            print( '*** ---- server playing user input : [{}]'.format( num ) );\n",
    "            print( '*** ---- server playing user ans   : [{}]'.format( current_user.get_ans() ) );\n",
    "            pass;\n",
    "\n",
    "        except : \n",
    "            print( '$$$ ---- server get user input number type error : [ ' + str( num ) + ' ]' );\n",
    "            message = TextSendMessage( text=( 'Error ! input type error please type a number !' ) );\n",
    "            line_bot_api.reply_message( event.reply_token , message );\n",
    "            return;\n",
    "\n",
    "        sp = current_user.min_num;\n",
    "        ep = current_user.max_num;\n",
    "        during = '';\n",
    "\n",
    "        # too large :: \n",
    "        if( num > current_user.get_ans() ) : \n",
    "            current_user.cmd[ -1 ] = current_user.cmd[ -1 ] + '*la';\n",
    "            text = 'too large , please guess lesser !';\n",
    "            if( len( current_user.cmd ) == 3 ) : \n",
    "                sp = current_user.min_num;\n",
    "                pass;\n",
    "            else : \n",
    "                for i in current_user.cmd[ -1 : : -1 ] : \n",
    "                    if( '*le' in i ) : \n",
    "                        sp = i[ 0 : i.index( '*' ) : 1 ];\n",
    "                        print( '$$$ server write new sp [{}]'.format( sp ) );\n",
    "                        break;\n",
    "                    pass;\n",
    "            ep = num;\n",
    "            print( '$$$ server write old ep [{}]'.format( ep ) );\n",
    "\n",
    "        # too less :: \n",
    "        elif( num < current_user.get_ans() ) : \n",
    "            current_user.cmd[ -1 ] = current_user.cmd[ -1 ] + '*le';\n",
    "            text = 'too less , please guess larger !';\n",
    "            # first guess len( cmd == 3 ) \n",
    "            if( len( current_user.cmd ) == 3 ) : \n",
    "                ep = current_user.max_num;\n",
    "                pass;\n",
    "            else : \n",
    "                for i in current_user.cmd[ -1 : : -1 ] : \n",
    "                    if( '*la' in i ) : \n",
    "                        ep = i[ 0 : i.index( '*' ) : 1 ];\n",
    "                        print( '$$$ server write new ep [{}]'.format( ep ) );\n",
    "                        break;\n",
    "                    pass;\n",
    "            sp = num;\n",
    "            print( '$$$ server write old sp [{}]'.format( sp ) );\n",
    "\n",
    "        elif( num == current_user.get_ans() ) : \n",
    "            text = 'Bingo !;'\n",
    "            current_user.is_win();\n",
    "\n",
    "        if( current_user.check_win() ) : \n",
    "            current_user.init();\n",
    "            current_user.uscore += 10;\n",
    "            create_ans( user_ID );\n",
    "            print( 'W. replay status : ' , 'user win this game ! score : ' + str( current_user.uscore ) );\n",
    "            print( 'W. replay status : ' , 'this game will auto restart !' );\n",
    "            message = TextSendMessage( text=( 'you win  ! score : ' + str( current_user.uscore ) ) );\n",
    "            del during;\n",
    "            del sp;\n",
    "            del ep;\n",
    "            line_bot_api.reply_message( event.reply_token , message );\n",
    "            return;\n",
    "\n",
    "        else :\n",
    "            during = '[ {} ~ {} ]'.format( sp , ep )\n",
    "            print( 'C. replay status : ' , 'user turn status : ' + text + ' ??? ' + current_user.cmd[ -1 ] );\n",
    "            message = TextSendMessage( text=( ( 'your turn status {} ! ' + text + ' guess during {} !' ).format( num , during ) ) );\n",
    "            del during;\n",
    "            del sp;\n",
    "            del ep;\n",
    "            line_bot_api.reply_message( event.reply_token , message );\n",
    "            return;\n",
    "\n",
    "        # txt  =   'user playing password game !'\n",
    "        # message = TextSendMessage( text=( txt ) );\n",
    "        # del txt;\n",
    "        # line_bot_api.reply_message( event.reply_token , message );\n",
    "        return;\n",
    "\n",
    "    if( check_cmd( cmd_list , 'play,password' ) ) : \n",
    "        current_user.init();\n",
    "        print( '*** ---- server step 3.4.1 ================================== ' );\n",
    "        print( '*** ---- server get play password process from user : [{}]'.format( user_ID ) );\n",
    "        txt  =   'this password during [ 0 - 100 ] , please type a number to play !'\n",
    "        message = TextSendMessage( text=( txt ) );\n",
    "        del txt;\n",
    "        line_bot_api.reply_message( event.reply_token , message );\n",
    "        return;\n",
    "\n",
    "    if( check_cmd( cmd_list , 'play,game2' ) ) : \n",
    "        current_user.init();\n",
    "        print( '*** ---- server step 3.4.2 ================================== ' );\n",
    "        print( '*** ---- server get play game2 process from user : [{}]'.format( user_ID ) );\n",
    "        txt  =   'Stay tuned for the new game2 !'\n",
    "        message = TextSendMessage( text=( txt ) );\n",
    "        del txt;\n",
    "        line_bot_api.reply_message( event.reply_token , message );\n",
    "        return;\n",
    "\n",
    "    if( check_cmd( cmd_list , 'play,game3' ) ) : \n",
    "        current_user.init();\n",
    "        print( '*** ---- server step 3.4.4 ================================== ' );\n",
    "        print( '*** ---- server get play game3 process from user : [{}]'.format( user_ID ) );\n",
    "        txt  =   'Stay tuned for the new game3 !'\n",
    "        message = TextSendMessage( text=( txt ) );\n",
    "        del txt;\n",
    "        line_bot_api.reply_message( event.reply_token , message );\n",
    "        return;\n"
   ]
  },
  {
   "cell_type": "code",
   "execution_count": null,
   "metadata": {},
   "outputs": [],
   "source": [
    "    # none this cmd  -----------------------------------------------------------------------------\n",
    "    raise None_This_Cmd_Exception('');\n",
    "\n",
    "    pass; # end if --------------------------\n"
   ]
  },
  {
   "cell_type": "code",
   "execution_count": null,
   "metadata": {},
   "outputs": [],
   "source": [
    "except None_This_User_Exception : \n",
    "\n",
    "    print( '*** ---- server step 3.2 ================================== ' );\n",
    "    print( 'server - - get None_This_User_Exception :: ' )\n",
    "    help  =   'please login at first !           ' + '\\n';\n",
    "    help +=   'type [ login ] .                  ' + '\\n';\n",
    "    help += '\\nif you are not my account , system will sign up auto';\n",
    "    message = TextSendMessage( text=( help ) );\n",
    "    del help;\n",
    "    del current_user;\n",
    "    line_bot_api.reply_message( event.reply_token , message );\n",
    "\n",
    "    return;\n",
    "\n",
    "except None_This_Cmd_Exception : \n",
    "\n",
    "    print( '*** ---- server step 3.3 ================================== ' );\n",
    "    print( '*** ---- server get help process from user : [{}]'.format( user_ID ) );\n",
    "    help  = 'service help list -----------------  ' + '\\n';\n",
    "    help += '\\n1. please type [ login ]           ' + '\\n';\n",
    "    help +=   '   to sign in or sign up !         ' + '\\n';\n",
    "    help += '\\n2. after login , please type       ' + '\\n';\n",
    "    help +=   '   [ play ] or                     ' + '\\n';\n",
    "    help +=   '   [ search ]                      ' + '\\n';\n",
    "    help +=   '   to use service !                ' + '\\n';\n",
    "    help += '\\n3. after play , please type num !  ' + '\\n';\n",
    "    help += '     enjoy your game !               ' + '\\n';\n",
    "    help += '\\n4. after search , please type key !' + '\\n';\n",
    "    message = TextSendMessage( text=( help ) );\n",
    "    del help;\n",
    "    del current_user;\n",
    "    line_bot_api.reply_message( event.reply_token , message );\n",
    "\n",
    "    return;\n",
    "\n",
    "except Exception as err : \n",
    "\n",
    "    # show app.py code error here -----------------------------------------------------------------------------\n",
    "    print( 'server - - code Exception $$$ ' + str( err ) )\n",
    "    del err;\n",
    "\n",
    "    return; # end except --------------------------\n",
    "\n",
    "# ---------------------------------------------------------------------------------------------------------------------------------\n",
    "\n",
    "pass; # end method handle_message\n"
   ]
  },
  {
   "cell_type": "markdown",
   "metadata": {},
   "source": [
    "# sleeping"
   ]
  },
  {
   "cell_type": "code",
   "execution_count": null,
   "metadata": {},
   "outputs": [],
   "source": [
    "from IPython.display import clear_output as clear;\n",
    "from time            import sleep;\n",
    "\n",
    "while( True ) : \n",
    "    \n",
    "    for i in range( 100 , 0 , -1 ) : \n",
    "    \n",
    "        print( i );\n",
    "        sleep( 2 );\n",
    "        clear( wait=True );\n",
    "    \n",
    "    pass;"
   ]
  },
  {
   "cell_type": "markdown",
   "metadata": {},
   "source": [
    "# 最後 ！ 其實我的願景 :: "
   ]
  },
  {
   "cell_type": "markdown",
   "metadata": {},
   "source": [
    "# 1. 概念圖"
   ]
  },
  {
   "cell_type": "markdown",
   "metadata": {},
   "source": [
    "<img src=\"final.jpg\" align=\"left\"></img>"
   ]
  },
  {
   "cell_type": "code",
   "execution_count": null,
   "metadata": {},
   "outputs": [],
   "source": []
  },
  {
   "cell_type": "markdown",
   "metadata": {},
   "source": [
    "# 2. 模仿 jsp - session instance 製作屬於我自己的 server -  session 並管理之\n",
    "### <a href=\"http://www.runoob.com/jsp/jsp-session.html\"> jsp - session instance 餐考網址</a>"
   ]
  },
  {
   "cell_type": "code",
   "execution_count": null,
   "metadata": {},
   "outputs": [],
   "source": []
  }
 ],
 "metadata": {
  "kernelspec": {
   "display_name": "Python 3",
   "language": "python",
   "name": "python3"
  },
  "language_info": {
   "codemirror_mode": {
    "name": "ipython",
    "version": 3
   },
   "file_extension": ".py",
   "mimetype": "text/x-python",
   "name": "python",
   "nbconvert_exporter": "python",
   "pygments_lexer": "ipython3",
   "version": "3.6.7"
  }
 },
 "nbformat": 4,
 "nbformat_minor": 1
}
